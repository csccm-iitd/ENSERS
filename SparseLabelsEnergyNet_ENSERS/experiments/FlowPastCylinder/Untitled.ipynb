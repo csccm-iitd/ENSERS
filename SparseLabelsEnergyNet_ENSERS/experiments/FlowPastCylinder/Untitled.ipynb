{
 "cells": [
  {
   "cell_type": "code",
   "execution_count": 1,
   "id": "5e37f4dd",
   "metadata": {},
   "outputs": [
    {
     "name": "stdout",
     "output_type": "stream",
     "text": [
      "   Sensors  SNR (dB)   U (M=0)   V (M=1)   P (M=2)\n",
      "0        4        10  0.101361  0.216928  0.450830\n",
      "1        4        20  0.089089  0.191133  0.439253\n",
      "2        4        60  0.086891  0.190959  0.436719\n",
      "3        4         0  0.087121  0.190560  0.436975\n",
      "4       16        10  0.099690  0.210071  0.455681\n",
      "5       16        20  0.084679  0.182264  0.432602\n",
      "6       16        60  0.087343  0.188513  0.438683\n",
      "7       16         0  0.086985  0.188173  0.437995\n"
     ]
    }
   ],
   "source": [
    "import pickle\n",
    "import numpy as np\n",
    "import pandas as pd\n",
    "\n",
    "# Load the plotData file\n",
    "file_name = 'plotData_fc.pkl'  # Replace with the correct file name\n",
    "with open(file_name, 'rb') as f:\n",
    "    plotData = pickle.load(f)\n",
    "\n",
    "# Parameters\n",
    "SensorsLs = [4, 16]  # Replace with the actual sensor configurations\n",
    "SNRdbLs = [10, 20, 60, 0]    # Replace with the actual noise levels\n",
    "num_params = 2  # Ux (M=0), Uy (M=1)\n",
    "\n",
    "# Compute mean L2 errors over samples\n",
    "mean_errors = np.mean(plotData, axis=2)  # Mean over the samples (axis 2)\n",
    "\n",
    "# Create a DataFrame to display the table\n",
    "rows = []\n",
    "for s, Sensors in enumerate(SensorsLs):\n",
    "    for i, SNRdb in enumerate(SNRdbLs):\n",
    "        # Collect mean errors for Ux (M=0) and Uy (M=1)\n",
    "        row = {\n",
    "            \"Sensors\": Sensors,\n",
    "            \"SNR (dB)\": SNRdb,\n",
    "            \"U (M=0)\": mean_errors[s, 0, i],\n",
    "            \"V (M=1)\": mean_errors[s, 1, i],\n",
    "            \"P (M=2)\": mean_errors[s, 2, i]\n",
    "        }\n",
    "        rows.append(row)\n",
    "\n",
    "# Convert to DataFrame\n",
    "df = pd.DataFrame(rows)\n",
    "\n",
    "# Print or save the table\n",
    "print(df)\n",
    "\n",
    "# Save the table to a CSV file if needed\n",
    "df.to_csv(\"error_table_fc.csv\", index=False)\n"
   ]
  },
  {
   "cell_type": "code",
   "execution_count": null,
   "id": "10658402",
   "metadata": {},
   "outputs": [],
   "source": []
  }
 ],
 "metadata": {
  "kernelspec": {
   "display_name": "Python 3 (ipykernel)",
   "language": "python",
   "name": "python3"
  },
  "language_info": {
   "codemirror_mode": {
    "name": "ipython",
    "version": 3
   },
   "file_extension": ".py",
   "mimetype": "text/x-python",
   "name": "python",
   "nbconvert_exporter": "python",
   "pygments_lexer": "ipython3",
   "version": "3.10.9"
  }
 },
 "nbformat": 4,
 "nbformat_minor": 5
}
