{
 "cells": [
  {
   "cell_type": "code",
   "execution_count": 5,
   "id": "ebdb5f1c",
   "metadata": {},
   "outputs": [
    {
     "name": "stdout",
     "output_type": "stream",
     "text": [
      "   Sensors  SNR (dB)  Ux (M=0)  Uy (M=1)\n",
      "0        4        10  0.126618  0.147634\n",
      "1        4        20  0.122171  0.138444\n",
      "2        4        60  0.109880  0.124400\n",
      "3        4         0  0.109888  0.124412\n",
      "4       16        10  0.118220  0.133431\n",
      "5       16        20  0.108404  0.121580\n",
      "6       16        60  0.106401  0.119757\n",
      "7       16         0  0.106552  0.119917\n"
     ]
    }
   ],
   "source": [
    "import pickle\n",
    "import numpy as np\n",
    "import pandas as pd\n",
    "\n",
    "# Load the plotData file\n",
    "file_name = 'plotData.pkl'  # Replace with the correct file name\n",
    "with open(file_name, 'rb') as f:\n",
    "    plotData = pickle.load(f)\n",
    "\n",
    "# Parameters\n",
    "SensorsLs = [4, 16]  # Replace with the actual sensor configurations\n",
    "SNRdbLs = [10, 20, 60, 0]    # Replace with the actual noise levels\n",
    "num_params = 2  # Ux (M=0), Uy (M=1)\n",
    "\n",
    "# Compute mean L2 errors over samples\n",
    "mean_errors = np.mean(plotData, axis=2)  # Mean over the samples (axis 2)\n",
    "\n",
    "# Create a DataFrame to display the table\n",
    "rows = []\n",
    "for s, Sensors in enumerate(SensorsLs):\n",
    "    for i, SNRdb in enumerate(SNRdbLs):\n",
    "        # Collect mean errors for Ux (M=0) and Uy (M=1)\n",
    "        row = {\n",
    "            \"Sensors\": Sensors,\n",
    "            \"SNR (dB)\": SNRdb,\n",
    "            \"Ux (M=0)\": mean_errors[s, 0, i],\n",
    "            \"Uy (M=1)\": mean_errors[s, 1, i]\n",
    "        }\n",
    "        rows.append(row)\n",
    "\n",
    "# Convert to DataFrame\n",
    "df = pd.DataFrame(rows)\n",
    "\n",
    "# Print or save the table\n",
    "print(df)\n",
    "\n",
    "# Save the table to a CSV file if needed\n",
    "df.to_csv(\"error_table.csv\", index=False)\n"
   ]
  },
  {
   "cell_type": "code",
   "execution_count": null,
   "id": "7a6507bd",
   "metadata": {},
   "outputs": [],
   "source": []
  }
 ],
 "metadata": {
  "kernelspec": {
   "display_name": "Python 3 (ipykernel)",
   "language": "python",
   "name": "python3"
  },
  "language_info": {
   "codemirror_mode": {
    "name": "ipython",
    "version": 3
   },
   "file_extension": ".py",
   "mimetype": "text/x-python",
   "name": "python",
   "nbconvert_exporter": "python",
   "pygments_lexer": "ipython3",
   "version": "3.10.9"
  }
 },
 "nbformat": 4,
 "nbformat_minor": 5
}
